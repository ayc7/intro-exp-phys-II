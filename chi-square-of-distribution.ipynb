{
 "cells": [
  {
   "cell_type": "markdown",
   "metadata": {},
   "source": [
    "## Calculating the chi-square for a distribution and a histogram.\n",
    "\n",
    "We will do it two ways. With and without normalized histograms"
   ]
  },
  {
   "cell_type": "code",
   "execution_count": 7,
   "metadata": {
    "collapsed": false
   },
   "outputs": [
    {
     "name": "stdout",
     "output_type": "stream",
     "text": [
      "Populating the interactive namespace from numpy and matplotlib\n"
     ]
    }
   ],
   "source": [
    "%pylab inline --no-import-all\n",
    "from scipy.stats import norm #will use this for plotting"
   ]
  },
  {
   "cell_type": "markdown",
   "metadata": {},
   "source": [
    "### make some data from a N(0,1) distribution"
   ]
  },
  {
   "cell_type": "code",
   "execution_count": 8,
   "metadata": {
    "collapsed": true
   },
   "outputs": [],
   "source": [
    "n_bins = 50\n",
    "x = norm.rvs(size=10000)"
   ]
  },
  {
   "cell_type": "code",
   "execution_count": 9,
   "metadata": {
    "collapsed": false
   },
   "outputs": [
    {
     "data": {
      "image/png": "[encoded data removed]",
      "text/plain": [
       "<matplotlib.figure.Figure at 0x23709e47588>"
      ]
     },
     "metadata": {},
     "output_type": "display_data"
    }
   ],
   "source": [
    "counts, bins, patches = plt.hist(x, bins=n_bins,normed=False)"
   ]
  },
  {
   "cell_type": "markdown",
   "metadata": {},
   "source": [
    "## Get Bin centers\n",
    "\n",
    "Get the location for the bin centers. Here I do it step by step so you can see what is going on."
   ]
  },
  {
   "cell_type": "code",
   "execution_count": 10,
   "metadata": {
    "collapsed": false
   },
   "outputs": [
    {
     "data": {
      "text/plain": [
       "array([-3.8305699 , -3.68149864, -3.53242739, -3.38335613, -3.23428487,\n",
       "       -3.08521362, -2.93614236, -2.7870711 , -2.63799985, -2.48892859,\n",
       "       -2.33985733, -2.19078608, -2.04171482, -1.89264356, -1.74357231,\n",
       "       -1.59450105, -1.44542979, -1.29635854, -1.14728728, -0.99821602,\n",
       "       -0.84914477, -0.70007351, -0.55100225, -0.401931  , -0.25285974,\n",
       "       -0.10378848,  0.04528277,  0.19435403,  0.34342529,  0.49249654,\n",
       "        0.6415678 ,  0.79063906,  0.93971031,  1.08878157,  1.23785283,\n",
       "        1.38692408,  1.53599534,  1.6850666 ,  1.83413785,  1.98320911,\n",
       "        2.13228037,  2.28135162,  2.43042288,  2.57949413,  2.72856539,\n",
       "        2.87763665,  3.0267079 ,  3.17577916,  3.32485042,  3.47392167,\n",
       "        3.62299293])"
      ]
     },
     "execution_count": 10,
     "metadata": {},
     "output_type": "execute_result"
    }
   ],
   "source": [
    "# all bins edges\n",
    "bins"
   ]
  },
  {
   "cell_type": "code",
   "execution_count": 11,
   "metadata": {
    "collapsed": false
   },
   "outputs": [
    {
     "data": {
      "text/plain": [
       "array([-3.68149864, -3.53242739, -3.38335613, -3.23428487, -3.08521362,\n",
       "       -2.93614236, -2.7870711 , -2.63799985, -2.48892859, -2.33985733,\n",
       "       -2.19078608, -2.04171482, -1.89264356, -1.74357231, -1.59450105,\n",
       "       -1.44542979, -1.29635854, -1.14728728, -0.99821602, -0.84914477,\n",
       "       -0.70007351, -0.55100225, -0.401931  , -0.25285974, -0.10378848,\n",
       "        0.04528277,  0.19435403,  0.34342529,  0.49249654,  0.6415678 ,\n",
       "        0.79063906,  0.93971031,  1.08878157,  1.23785283,  1.38692408,\n",
       "        1.53599534,  1.6850666 ,  1.83413785,  1.98320911,  2.13228037,\n",
       "        2.28135162,  2.43042288,  2.57949413,  2.72856539,  2.87763665,\n",
       "        3.0267079 ,  3.17577916,  3.32485042,  3.47392167,  3.62299293])"
      ]
     },
     "execution_count": 11,
     "metadata": {},
     "output_type": "execute_result"
    }
   ],
   "source": [
    "right_edges = bins[1:]\n",
    "right_edges"
   ]
  },
  {
   "cell_type": "code",
   "execution_count": 12,
   "metadata": {
    "collapsed": false
   },
   "outputs": [
    {
     "data": {
      "text/plain": [
       "array([-3.8305699 , -3.68149864, -3.53242739, -3.38335613, -3.23428487,\n",
       "       -3.08521362, -2.93614236, -2.7870711 , -2.63799985, -2.48892859,\n",
       "       -2.33985733, -2.19078608, -2.04171482, -1.89264356, -1.74357231,\n",
       "       -1.59450105, -1.44542979, -1.29635854, -1.14728728, -0.99821602,\n",
       "       -0.84914477, -0.70007351, -0.55100225, -0.401931  , -0.25285974,\n",
       "       -0.10378848,  0.04528277,  0.19435403,  0.34342529,  0.49249654,\n",
       "        0.6415678 ,  0.79063906,  0.93971031,  1.08878157,  1.23785283,\n",
       "        1.38692408,  1.53599534,  1.6850666 ,  1.83413785,  1.98320911,\n",
       "        2.13228037,  2.28135162,  2.43042288,  2.57949413,  2.72856539,\n",
       "        2.87763665,  3.0267079 ,  3.17577916,  3.32485042,  3.47392167])"
      ]
     },
     "execution_count": 12,
     "metadata": {},
     "output_type": "execute_result"
    }
   ],
   "source": [
    "left_edges = bins[:-1]\n",
    "left_edges"
   ]
  },
  {
   "cell_type": "code",
   "execution_count": 13,
   "metadata": {
    "collapsed": false
   },
   "outputs": [
    {
     "data": {
      "text/plain": [
       "array([-3.75603427, -3.60696301, -3.45789176, -3.3088205 , -3.15974924,\n",
       "       -3.01067799, -2.86160673, -2.71253547, -2.56346422, -2.41439296,\n",
       "       -2.2653217 , -2.11625045, -1.96717919, -1.81810793, -1.66903668,\n",
       "       -1.51996542, -1.37089417, -1.22182291, -1.07275165, -0.9236804 ,\n",
       "       -0.77460914, -0.62553788, -0.47646663, -0.32739537, -0.17832411,\n",
       "       -0.02925286,  0.1198184 ,  0.26888966,  0.41796091,  0.56703217,\n",
       "        0.71610343,  0.86517468,  1.01424594,  1.1633172 ,  1.31238845,\n",
       "        1.46145971,  1.61053097,  1.75960222,  1.90867348,  2.05774474,\n",
       "        2.20681599,  2.35588725,  2.50495851,  2.65402976,  2.80310102,\n",
       "        2.95217228,  3.10124353,  3.25031479,  3.39938605,  3.5484573 ])"
      ]
     },
     "execution_count": 13,
     "metadata": {},
     "output_type": "execute_result"
    }
   ],
   "source": [
    "bin_centers = (right_edges+left_edges)/2\n",
    "bin_centers"
   ]
  },
  {
   "cell_type": "code",
   "execution_count": 14,
   "metadata": {
    "collapsed": true
   },
   "outputs": [],
   "source": [
    "bin_width = bins[1]-bins[0]"
   ]
  },
  {
   "cell_type": "markdown",
   "metadata": {},
   "source": [
    "## Raw histogram counts\n",
    "\n",
    "To go from the pdf to the expected counts in a bin, you need to include a normalization constant."
   ]
  },
  {
   "cell_type": "code",
   "execution_count": 15,
   "metadata": {
    "collapsed": true
   },
   "outputs": [],
   "source": [
    "normalization = x.size*(bins[1]-bins[0])"
   ]
  },
  {
   "cell_type": "code",
   "execution_count": 16,
   "metadata": {
    "collapsed": false
   },
   "outputs": [],
   "source": [
    "prediction = normalization*norm.pdf(bin_centers)"
   ]
  },
  {
   "cell_type": "code",
   "execution_count": 17,
   "metadata": {
    "collapsed": false
   },
   "outputs": [
    {
     "data": {
      "text/plain": [
       "[<matplotlib.lines.Line2D at 0x2370a2f1978>]"
      ]
     },
     "execution_count": 17,
     "metadata": {},
     "output_type": "execute_result"
    },
    {
     "data": {
      "image/png": "[encoded data removed]",
      "text/plain": [
       "<matplotlib.figure.Figure at 0x2370a2f1ef0>"
      ]
     },
     "metadata": {},
     "output_type": "display_data"
    }
   ],
   "source": [
    "counts, bins, patches = plt.hist(x, bins=n_bins,normed=False)\n",
    "plt.plot(bin_centers,prediction, c='r', lw=2)"
   ]
  },
  {
   "cell_type": "code",
   "execution_count": 18,
   "metadata": {
    "collapsed": false
   },
   "outputs": [
    {
     "data": {
      "text/plain": [
       "(9997.9326102629075, 10000.0)"
      ]
     },
     "execution_count": 18,
     "metadata": {},
     "output_type": "execute_result"
    }
   ],
   "source": [
    "np.sum(prediction), np.sum(counts)"
   ]
  },
  {
   "cell_type": "code",
   "execution_count": 19,
   "metadata": {
    "collapsed": false
   },
   "outputs": [
    {
     "data": {
      "text/plain": [
       "<matplotlib.text.Text at 0x2370a8c4cc0>"
      ]
     },
     "execution_count": 19,
     "metadata": {},
     "output_type": "execute_result"
    },
    {
     "data": {
      "image/png": "[encoded data removed]",
      "text/plain": [
       "<matplotlib.figure.Figure at 0x2370a8ef0b8>"
      ]
     },
     "metadata": {},
     "output_type": "display_data"
    }
   ],
   "source": [
    "# make a quick plot of (counts-prediction)/sqrt(prediction)\n",
    "# it should look like N(0,1) for chi-square formula to be appropriate\n",
    "temp = plt.hist((counts-prediction)/np.sqrt(prediction), bins=7, normed=True, alpha=0.2)\n",
    "plt.plot(temp[1], norm.pdf(temp[1]))\n",
    "plt.plot(temp[1], norm.pdf(temp[1]), label='N(0,1)')\n",
    "plt.legend()\n",
    "plt.xlabel('(counts-prediction)/sqrt(prediction)')"
   ]
  },
  {
   "cell_type": "markdown",
   "metadata": {},
   "source": [
    "## Chisquare"
   ]
  },
  {
   "cell_type": "code",
   "execution_count": 20,
   "metadata": {
    "collapsed": false
   },
   "outputs": [],
   "source": [
    "from scipy.stats import chisquare"
   ]
  },
  {
   "cell_type": "code",
   "execution_count": 21,
   "metadata": {
    "collapsed": true
   },
   "outputs": [],
   "source": [
    "from scipy.stats import chi2"
   ]
  },
  {
   "cell_type": "code",
   "execution_count": 22,
   "metadata": {
    "collapsed": false
   },
   "outputs": [
    {
     "data": {
      "text/plain": [
       "74.034266984592691"
      ]
     },
     "execution_count": 22,
     "metadata": {},
     "output_type": "execute_result"
    }
   ],
   "source": [
    "# right way\n",
    "np.sum((counts-prediction)**2/prediction)"
   ]
  },
  {
   "cell_type": "code",
   "execution_count": 23,
   "metadata": {
    "collapsed": false
   },
   "outputs": [
    {
     "name": "stdout",
     "output_type": "stream",
     "text": [
      "[   2.    1.    2.    1.    5.    7.   12.   14.   24.   35.   42.   56.\n",
      "  112.  115.  151.  169.  254.  290.  307.  425.  387.  477.  543.  572.\n",
      "  592.  600.  576.  532.  546.  528.  440.  404.  358.  320.  245.  198.\n",
      "  156.  137.  104.   72.   62.   62.   24.   14.    8.    7.    2.    7.\n",
      "    0.    3.]\n"
     ]
    }
   ],
   "source": [
    "# right way\n",
    "chisq_obs, pvalue = chisquare(counts, prediction)\n",
    "chisq_obs, pvalue\n",
    "print (counts)"
   ]
  },
  {
   "cell_type": "markdown",
   "metadata": {},
   "source": [
    "Now we can calculate the p-value for having a chi-square value this large.\n",
    "Importantly we need to have the number of degrees of freedom be the number of bins."
   ]
  },
  {
   "cell_type": "code",
   "execution_count": 26,
   "metadata": {
    "collapsed": false
   },
   "outputs": [
    {
     "data": {
      "text/plain": [
       "0.015225918193162139"
      ]
     },
     "execution_count": 26,
     "metadata": {},
     "output_type": "execute_result"
    }
   ],
   "source": [
    "#p-value\n",
    "chi2.sf(chisq_obs,counts.size)"
   ]
  },
  {
   "cell_type": "markdown",
   "metadata": {},
   "source": [
    "## Note \n",
    "A p-value of 0 or 1 is very unlikely. You should expect to sit in the middle of the distribution and have a p-value of ~0.5"
   ]
  },
  {
   "cell_type": "markdown",
   "metadata": {},
   "source": [
    "## Normalized Histogram (wrong way)\n",
    "\n",
    "Here we make a normed histogram, which is equivalent to dividing by the normalization constant"
   ]
  },
  {
   "cell_type": "code",
   "execution_count": 45,
   "metadata": {
    "collapsed": false
   },
   "outputs": [],
   "source": [
    "prediction_normed = norm.pdf(bin_centers)"
   ]
  },
  {
   "cell_type": "code",
   "execution_count": 46,
   "metadata": {
    "collapsed": false
   },
   "outputs": [
    {
     "data": {
      "text/plain": [
       "[<matplotlib.lines.Line2D at 0x1124c78d0>]"
      ]
     },
     "execution_count": 46,
     "metadata": {},
     "output_type": "execute_result"
    },
    {
     "data": {
      "image/png": "[encoded data removed]",
      "text/plain": [
       "<matplotlib.figure.Figure at 0x1121e2b50>"
      ]
     },
     "metadata": {},
     "output_type": "display_data"
    }
   ],
   "source": [
    "counts_normed, bins, patches = plt.hist(x, bins=n_bins,normed=True)\n",
    "plt.plot(bin_centers,prediction_normed, c='r', lw=2)"
   ]
  },
  {
   "cell_type": "code",
   "execution_count": 51,
   "metadata": {
    "collapsed": false
   },
   "outputs": [
    {
     "data": {
      "text/plain": [
       "(6.6014382152927498, 6.6024399206195126)"
      ]
     },
     "execution_count": 51,
     "metadata": {},
     "output_type": "execute_result"
    }
   ],
   "source": [
    "# Note, they don't add up to 1., they add up to (roughly) 1/bin_width\n",
    "np.sum(prediction_normed), np.sum(counts_normed)"
   ]
  },
  {
   "cell_type": "code",
   "execution_count": 52,
   "metadata": {
    "collapsed": false
   },
   "outputs": [
    {
     "data": {
      "text/plain": [
       "6.6024399206195179"
      ]
     },
     "execution_count": 52,
     "metadata": {},
     "output_type": "execute_result"
    }
   ],
   "source": [
    "1/bin_width"
   ]
  },
  {
   "cell_type": "code",
   "execution_count": 75,
   "metadata": {
    "collapsed": false
   },
   "outputs": [
    {
     "data": {
      "text/plain": [
       "<matplotlib.text.Text at 0x1135c0ed0>"
      ]
     },
     "execution_count": 75,
     "metadata": {},
     "output_type": "execute_result"
    },
    {
     "data": {
      "image/png": "[encoded data removed]",
      "text/plain": [
       "<matplotlib.figure.Figure at 0x1148e3bd0>"
      ]
     },
     "metadata": {},
     "output_type": "display_data"
    }
   ],
   "source": [
    "# make a quick plot of (counts-prediction)/sqrt(prediction)\n",
    "# it should look like N(0,1) for chi-square formula to be appropriate\n",
    "temp = plt.hist((counts_normed-prediction_normed)/np.sqrt(prediction_normed), bins=7, normed=True, alpha=0.2)\n",
    "plt.plot(temp[1], norm.pdf(temp[1]), label='N(0,1) -- needed for chi-square')\n",
    "plt.plot(temp[1], norm.pdf(temp[1], 0,1./np.sqrt(normalization)), label='N(0,1/sqrt(norm))')\n",
    "plt.legend()\n",
    "plt.xlabel('(counts_normed-prediction_normed)/sqrt(prediction_normed)')\n",
    "plt.title('note, the scale is way off!!!', color='r')"
   ]
  },
  {
   "cell_type": "code",
   "execution_count": 62,
   "metadata": {
    "collapsed": false
   },
   "outputs": [
    {
     "data": {
      "text/plain": [
       "0.030040350343106814"
      ]
     },
     "execution_count": 62,
     "metadata": {},
     "output_type": "execute_result"
    }
   ],
   "source": [
    "#wrong way\n",
    "np.sum((counts_normed-prediction_normed)**2/prediction_normed)"
   ]
  },
  {
   "cell_type": "code",
   "execution_count": 63,
   "metadata": {
    "collapsed": false
   },
   "outputs": [
    {
     "data": {
      "text/plain": [
       "(0.030040350343106814, 1.0)"
      ]
     },
     "execution_count": 63,
     "metadata": {},
     "output_type": "execute_result"
    }
   ],
   "source": [
    "#wrong way\n",
    "chisq_obs_wrong, pvalue_wrong = chisquare(counts_normed, prediction_normed)\n",
    "chisq_obs_wrong, pvalue_wrong"
   ]
  },
  {
   "cell_type": "code",
   "execution_count": 76,
   "metadata": {
    "collapsed": false
   },
   "outputs": [
    {
     "data": {
      "text/plain": [
       "(45.498862093830645, 0.61586732424588986)"
      ]
     },
     "execution_count": 76,
     "metadata": {},
     "output_type": "execute_result"
    }
   ],
   "source": [
    "## compare with the right way\n",
    "chisq_obs, pvalue"
   ]
  },
  {
   "cell_type": "code",
   "execution_count": 64,
   "metadata": {
    "collapsed": false
   },
   "outputs": [
    {
     "data": {
      "text/plain": [
       "1.0"
      ]
     },
     "execution_count": 64,
     "metadata": {},
     "output_type": "execute_result"
    }
   ],
   "source": [
    "#p-value\n",
    "chi2.sf(chisq_obs_wrong,counts.size)"
   ]
  },
  {
   "cell_type": "markdown",
   "metadata": {
    "collapsed": true
   },
   "source": [
    "## Note \n",
    "A p-value of 0 or 1 is very unlikely. You should expect to sit in the middle of the distribution and have a p-value of ~0.5"
   ]
  },
  {
   "cell_type": "code",
   "execution_count": null,
   "metadata": {
    "collapsed": true
   },
   "outputs": [],
   "source": []
  },
  {
   "cell_type": "code",
   "execution_count": null,
   "metadata": {
    "collapsed": true
   },
   "outputs": [],
   "source": []
  },
  {
   "cell_type": "code",
   "execution_count": null,
   "metadata": {
    "collapsed": true
   },
   "outputs": [],
   "source": []
  }
 ],
 "metadata": {
  "kernelspec": {
   "display_name": "Python 3",
   "language": "python",
   "name": "python3"
  },
  "language_info": {
   "codemirror_mode": {
    "name": "ipython",
    "version": 3
   },
   "file_extension": ".py",
   "mimetype": "text/x-python",
   "name": "python",
   "nbconvert_exporter": "python",
   "pygments_lexer": "ipython3",
   "version": "3.5.1"
  }
 },
 "nbformat": 4,
 "nbformat_minor": 0
}
